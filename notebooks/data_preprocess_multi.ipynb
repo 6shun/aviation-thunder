{
 "cells": [
  {
   "cell_type": "code",
   "execution_count": 1,
   "metadata": {},
   "outputs": [],
   "source": [
    "import pandas as pd\n",
    "import numpy as np\n",
    "import glob\n",
    "\n",
    "pd.options.mode.chained_assignment = None  # default='warn'"
   ]
  },
  {
   "cell_type": "markdown",
   "metadata": {},
   "source": [
    "# Preprocess pipeline for single file\n"
   ]
  },
  {
   "cell_type": "code",
   "execution_count": 132,
   "metadata": {},
   "outputs": [
    {
     "name": "stderr",
     "output_type": "stream",
     "text": [
      "/opt/anaconda3/envs/aviation/lib/python3.7/site-packages/IPython/core/interactiveshell.py:3524: DtypeWarning: Columns (19,20,21,22,23,24,25,26,27,28,29,30,31,32,33,34,35,36,42,49,50,56,57,58,59,60,61,64,65,66,67,72,74,75,76) have mixed types.Specify dtype option on import or set low_memory=False.\n",
      "  exec(code_obj, self.user_global_ns, self.user_ns)\n"
     ]
    }
   ],
   "source": [
    "df = pd.read_csv('../Data/72243012960/2000_72243012960.csv')"
   ]
  },
  {
   "cell_type": "code",
   "execution_count": 133,
   "metadata": {},
   "outputs": [
    {
     "data": {
      "text/html": [
       "<div>\n",
       "<style scoped>\n",
       "    .dataframe tbody tr th:only-of-type {\n",
       "        vertical-align: middle;\n",
       "    }\n",
       "\n",
       "    .dataframe tbody tr th {\n",
       "        vertical-align: top;\n",
       "    }\n",
       "\n",
       "    .dataframe thead th {\n",
       "        text-align: right;\n",
       "    }\n",
       "</style>\n",
       "<table border=\"1\" class=\"dataframe\">\n",
       "  <thead>\n",
       "    <tr style=\"text-align: right;\">\n",
       "      <th></th>\n",
       "      <th>STATION</th>\n",
       "      <th>DATE</th>\n",
       "      <th>SOURCE</th>\n",
       "      <th>LATITUDE</th>\n",
       "      <th>LONGITUDE</th>\n",
       "      <th>ELEVATION</th>\n",
       "      <th>NAME</th>\n",
       "      <th>REPORT_TYPE</th>\n",
       "      <th>CALL_SIGN</th>\n",
       "      <th>QUALITY_CONTROL</th>\n",
       "      <th>...</th>\n",
       "      <th>MW2</th>\n",
       "      <th>MW3</th>\n",
       "      <th>MW4</th>\n",
       "      <th>MW5</th>\n",
       "      <th>OC1</th>\n",
       "      <th>OE1</th>\n",
       "      <th>OE2</th>\n",
       "      <th>OE3</th>\n",
       "      <th>REM</th>\n",
       "      <th>EQD</th>\n",
       "    </tr>\n",
       "  </thead>\n",
       "  <tbody>\n",
       "    <tr>\n",
       "      <th>0</th>\n",
       "      <td>72243012960</td>\n",
       "      <td>2000-01-01T00:00:00</td>\n",
       "      <td>3</td>\n",
       "      <td>29.98</td>\n",
       "      <td>-95.36</td>\n",
       "      <td>29.0</td>\n",
       "      <td>HOUSTON INTERCONTINENTAL AIRPORT, TX US</td>\n",
       "      <td>SY-MT</td>\n",
       "      <td>IAH</td>\n",
       "      <td>V020</td>\n",
       "      <td>...</td>\n",
       "      <td>NaN</td>\n",
       "      <td>NaN</td>\n",
       "      <td>NaN</td>\n",
       "      <td>NaN</td>\n",
       "      <td>NaN</td>\n",
       "      <td>NaN</td>\n",
       "      <td>NaN</td>\n",
       "      <td>NaN</td>\n",
       "      <td>SYN076AAXX  01004 72243 32966 00000 10144 2007...</td>\n",
       "      <td>Q01  00002PRCP06N01 00000JPWTH 0</td>\n",
       "    </tr>\n",
       "    <tr>\n",
       "      <th>1</th>\n",
       "      <td>72243012960</td>\n",
       "      <td>2000-01-01T00:53:00</td>\n",
       "      <td>C</td>\n",
       "      <td>29.98</td>\n",
       "      <td>-95.36</td>\n",
       "      <td>29.0</td>\n",
       "      <td>HOUSTON INTERCONTINENTAL AIRPORT, TX US</td>\n",
       "      <td>FM-15</td>\n",
       "      <td>IAH</td>\n",
       "      <td>V020</td>\n",
       "      <td>...</td>\n",
       "      <td>NaN</td>\n",
       "      <td>NaN</td>\n",
       "      <td>NaN</td>\n",
       "      <td>NaN</td>\n",
       "      <td>NaN</td>\n",
       "      <td>NaN</td>\n",
       "      <td>NaN</td>\n",
       "      <td>NaN</td>\n",
       "      <td>MET067KIAH 010053Z 00000KT 10SM CLR 12/07 A300...</td>\n",
       "      <td>N01 00000JPWTH 0</td>\n",
       "    </tr>\n",
       "    <tr>\n",
       "      <th>2</th>\n",
       "      <td>72243012960</td>\n",
       "      <td>2000-01-01T01:00:00</td>\n",
       "      <td>9</td>\n",
       "      <td>29.98</td>\n",
       "      <td>-95.36</td>\n",
       "      <td>29.0</td>\n",
       "      <td>HOUSTON INTERCONTINENTAL AIRPORT, TX US</td>\n",
       "      <td>NSRDB</td>\n",
       "      <td>99999</td>\n",
       "      <td>V020</td>\n",
       "      <td>...</td>\n",
       "      <td>NaN</td>\n",
       "      <td>NaN</td>\n",
       "      <td>NaN</td>\n",
       "      <td>NaN</td>\n",
       "      <td>NaN</td>\n",
       "      <td>NaN</td>\n",
       "      <td>NaN</td>\n",
       "      <td>NaN</td>\n",
       "      <td>NaN</td>\n",
       "      <td>NaN</td>\n",
       "    </tr>\n",
       "    <tr>\n",
       "      <th>3</th>\n",
       "      <td>72243012960</td>\n",
       "      <td>2000-01-01T01:53:00</td>\n",
       "      <td>C</td>\n",
       "      <td>29.98</td>\n",
       "      <td>-95.36</td>\n",
       "      <td>29.0</td>\n",
       "      <td>HOUSTON INTERCONTINENTAL AIRPORT, TX US</td>\n",
       "      <td>FM-15</td>\n",
       "      <td>IAH</td>\n",
       "      <td>V020</td>\n",
       "      <td>...</td>\n",
       "      <td>NaN</td>\n",
       "      <td>NaN</td>\n",
       "      <td>NaN</td>\n",
       "      <td>NaN</td>\n",
       "      <td>NaN</td>\n",
       "      <td>NaN</td>\n",
       "      <td>NaN</td>\n",
       "      <td>NaN</td>\n",
       "      <td>MET067KIAH 010153Z 00000KT 10SM CLR 10/07 A300...</td>\n",
       "      <td>N01 00000JPWTH 0</td>\n",
       "    </tr>\n",
       "    <tr>\n",
       "      <th>4</th>\n",
       "      <td>72243012960</td>\n",
       "      <td>2000-01-01T02:00:00</td>\n",
       "      <td>9</td>\n",
       "      <td>29.98</td>\n",
       "      <td>-95.36</td>\n",
       "      <td>29.0</td>\n",
       "      <td>HOUSTON INTERCONTINENTAL AIRPORT, TX US</td>\n",
       "      <td>NSRDB</td>\n",
       "      <td>99999</td>\n",
       "      <td>V020</td>\n",
       "      <td>...</td>\n",
       "      <td>NaN</td>\n",
       "      <td>NaN</td>\n",
       "      <td>NaN</td>\n",
       "      <td>NaN</td>\n",
       "      <td>NaN</td>\n",
       "      <td>NaN</td>\n",
       "      <td>NaN</td>\n",
       "      <td>NaN</td>\n",
       "      <td>NaN</td>\n",
       "      <td>NaN</td>\n",
       "    </tr>\n",
       "    <tr>\n",
       "      <th>...</th>\n",
       "      <td>...</td>\n",
       "      <td>...</td>\n",
       "      <td>...</td>\n",
       "      <td>...</td>\n",
       "      <td>...</td>\n",
       "      <td>...</td>\n",
       "      <td>...</td>\n",
       "      <td>...</td>\n",
       "      <td>...</td>\n",
       "      <td>...</td>\n",
       "      <td>...</td>\n",
       "      <td>...</td>\n",
       "      <td>...</td>\n",
       "      <td>...</td>\n",
       "      <td>...</td>\n",
       "      <td>...</td>\n",
       "      <td>...</td>\n",
       "      <td>...</td>\n",
       "      <td>...</td>\n",
       "      <td>...</td>\n",
       "      <td>...</td>\n",
       "    </tr>\n",
       "    <tr>\n",
       "      <th>19235</th>\n",
       "      <td>72243012960</td>\n",
       "      <td>2000-12-31T21:53:00</td>\n",
       "      <td>C</td>\n",
       "      <td>29.98</td>\n",
       "      <td>-95.36</td>\n",
       "      <td>29.0</td>\n",
       "      <td>HOUSTON INTERCONTINENTAL AIRPORT, TX US</td>\n",
       "      <td>FM-15</td>\n",
       "      <td>IAH</td>\n",
       "      <td>V020</td>\n",
       "      <td>...</td>\n",
       "      <td>NaN</td>\n",
       "      <td>NaN</td>\n",
       "      <td>NaN</td>\n",
       "      <td>NaN</td>\n",
       "      <td>NaN</td>\n",
       "      <td>NaN</td>\n",
       "      <td>NaN</td>\n",
       "      <td>NaN</td>\n",
       "      <td>MET080KIAH 312153Z 08010KT 10SM -RA OVC050 06/...</td>\n",
       "      <td>Q01+000003PRSWM1Q02    003PRSWM1N01 00020JPWTH 0</td>\n",
       "    </tr>\n",
       "    <tr>\n",
       "      <th>19236</th>\n",
       "      <td>72243012960</td>\n",
       "      <td>2000-12-31T22:00:00</td>\n",
       "      <td>9</td>\n",
       "      <td>29.98</td>\n",
       "      <td>-95.36</td>\n",
       "      <td>29.0</td>\n",
       "      <td>HOUSTON INTERCONTINENTAL AIRPORT, TX US</td>\n",
       "      <td>NSRDB</td>\n",
       "      <td>99999</td>\n",
       "      <td>V020</td>\n",
       "      <td>...</td>\n",
       "      <td>NaN</td>\n",
       "      <td>NaN</td>\n",
       "      <td>NaN</td>\n",
       "      <td>NaN</td>\n",
       "      <td>NaN</td>\n",
       "      <td>NaN</td>\n",
       "      <td>NaN</td>\n",
       "      <td>NaN</td>\n",
       "      <td>NaN</td>\n",
       "      <td>NaN</td>\n",
       "    </tr>\n",
       "    <tr>\n",
       "      <th>19237</th>\n",
       "      <td>72243012960</td>\n",
       "      <td>2000-12-31T22:53:00</td>\n",
       "      <td>C</td>\n",
       "      <td>29.98</td>\n",
       "      <td>-95.36</td>\n",
       "      <td>29.0</td>\n",
       "      <td>HOUSTON INTERCONTINENTAL AIRPORT, TX US</td>\n",
       "      <td>FM-15</td>\n",
       "      <td>IAH</td>\n",
       "      <td>V020</td>\n",
       "      <td>...</td>\n",
       "      <td>NaN</td>\n",
       "      <td>NaN</td>\n",
       "      <td>NaN</td>\n",
       "      <td>NaN</td>\n",
       "      <td>NaN</td>\n",
       "      <td>NaN</td>\n",
       "      <td>NaN</td>\n",
       "      <td>NaN</td>\n",
       "      <td>MET088KIAH 312253Z 07010KT 9SM -RA OVC046 04/0...</td>\n",
       "      <td>Q01+000003PRSWM1Q02    003PRSWM1N01 00020JPWTH 0</td>\n",
       "    </tr>\n",
       "    <tr>\n",
       "      <th>19238</th>\n",
       "      <td>72243012960</td>\n",
       "      <td>2000-12-31T23:00:00</td>\n",
       "      <td>9</td>\n",
       "      <td>29.98</td>\n",
       "      <td>-95.36</td>\n",
       "      <td>29.0</td>\n",
       "      <td>HOUSTON INTERCONTINENTAL AIRPORT, TX US</td>\n",
       "      <td>NSRDB</td>\n",
       "      <td>99999</td>\n",
       "      <td>V020</td>\n",
       "      <td>...</td>\n",
       "      <td>NaN</td>\n",
       "      <td>NaN</td>\n",
       "      <td>NaN</td>\n",
       "      <td>NaN</td>\n",
       "      <td>NaN</td>\n",
       "      <td>NaN</td>\n",
       "      <td>NaN</td>\n",
       "      <td>NaN</td>\n",
       "      <td>NaN</td>\n",
       "      <td>NaN</td>\n",
       "    </tr>\n",
       "    <tr>\n",
       "      <th>19239</th>\n",
       "      <td>72243012960</td>\n",
       "      <td>2000-12-31T23:53:00</td>\n",
       "      <td>4</td>\n",
       "      <td>29.98</td>\n",
       "      <td>-95.36</td>\n",
       "      <td>29.0</td>\n",
       "      <td>HOUSTON INTERCONTINENTAL AIRPORT, TX US</td>\n",
       "      <td>FM-15</td>\n",
       "      <td>KIAH</td>\n",
       "      <td>V020</td>\n",
       "      <td>...</td>\n",
       "      <td>NaN</td>\n",
       "      <td>NaN</td>\n",
       "      <td>NaN</td>\n",
       "      <td>NaN</td>\n",
       "      <td>0082,1</td>\n",
       "      <td>NaN</td>\n",
       "      <td>NaN</td>\n",
       "      <td>NaN</td>\n",
       "      <td>MET109KIAH 312353Z 07010G16KT 10SM OVC046 04/0...</td>\n",
       "      <td>Q01+000000PRSWM2</td>\n",
       "    </tr>\n",
       "  </tbody>\n",
       "</table>\n",
       "<p>19240 rows × 79 columns</p>\n",
       "</div>"
      ],
      "text/plain": [
       "           STATION                 DATE SOURCE  LATITUDE  LONGITUDE  \\\n",
       "0      72243012960  2000-01-01T00:00:00      3     29.98     -95.36   \n",
       "1      72243012960  2000-01-01T00:53:00      C     29.98     -95.36   \n",
       "2      72243012960  2000-01-01T01:00:00      9     29.98     -95.36   \n",
       "3      72243012960  2000-01-01T01:53:00      C     29.98     -95.36   \n",
       "4      72243012960  2000-01-01T02:00:00      9     29.98     -95.36   \n",
       "...            ...                  ...    ...       ...        ...   \n",
       "19235  72243012960  2000-12-31T21:53:00      C     29.98     -95.36   \n",
       "19236  72243012960  2000-12-31T22:00:00      9     29.98     -95.36   \n",
       "19237  72243012960  2000-12-31T22:53:00      C     29.98     -95.36   \n",
       "19238  72243012960  2000-12-31T23:00:00      9     29.98     -95.36   \n",
       "19239  72243012960  2000-12-31T23:53:00      4     29.98     -95.36   \n",
       "\n",
       "       ELEVATION                                     NAME REPORT_TYPE  \\\n",
       "0           29.0  HOUSTON INTERCONTINENTAL AIRPORT, TX US       SY-MT   \n",
       "1           29.0  HOUSTON INTERCONTINENTAL AIRPORT, TX US       FM-15   \n",
       "2           29.0  HOUSTON INTERCONTINENTAL AIRPORT, TX US       NSRDB   \n",
       "3           29.0  HOUSTON INTERCONTINENTAL AIRPORT, TX US       FM-15   \n",
       "4           29.0  HOUSTON INTERCONTINENTAL AIRPORT, TX US       NSRDB   \n",
       "...          ...                                      ...         ...   \n",
       "19235       29.0  HOUSTON INTERCONTINENTAL AIRPORT, TX US       FM-15   \n",
       "19236       29.0  HOUSTON INTERCONTINENTAL AIRPORT, TX US       NSRDB   \n",
       "19237       29.0  HOUSTON INTERCONTINENTAL AIRPORT, TX US       FM-15   \n",
       "19238       29.0  HOUSTON INTERCONTINENTAL AIRPORT, TX US       NSRDB   \n",
       "19239       29.0  HOUSTON INTERCONTINENTAL AIRPORT, TX US       FM-15   \n",
       "\n",
       "      CALL_SIGN QUALITY_CONTROL  ...  MW2  MW3  MW4  MW5     OC1  OE1  OE2  \\\n",
       "0         IAH              V020  ...  NaN  NaN  NaN  NaN     NaN  NaN  NaN   \n",
       "1         IAH              V020  ...  NaN  NaN  NaN  NaN     NaN  NaN  NaN   \n",
       "2         99999            V020  ...  NaN  NaN  NaN  NaN     NaN  NaN  NaN   \n",
       "3         IAH              V020  ...  NaN  NaN  NaN  NaN     NaN  NaN  NaN   \n",
       "4         99999            V020  ...  NaN  NaN  NaN  NaN     NaN  NaN  NaN   \n",
       "...         ...             ...  ...  ...  ...  ...  ...     ...  ...  ...   \n",
       "19235     IAH              V020  ...  NaN  NaN  NaN  NaN     NaN  NaN  NaN   \n",
       "19236     99999            V020  ...  NaN  NaN  NaN  NaN     NaN  NaN  NaN   \n",
       "19237     IAH              V020  ...  NaN  NaN  NaN  NaN     NaN  NaN  NaN   \n",
       "19238     99999            V020  ...  NaN  NaN  NaN  NaN     NaN  NaN  NaN   \n",
       "19239     KIAH             V020  ...  NaN  NaN  NaN  NaN  0082,1  NaN  NaN   \n",
       "\n",
       "       OE3                                                REM  \\\n",
       "0      NaN  SYN076AAXX  01004 72243 32966 00000 10144 2007...   \n",
       "1      NaN  MET067KIAH 010053Z 00000KT 10SM CLR 12/07 A300...   \n",
       "2      NaN                                                NaN   \n",
       "3      NaN  MET067KIAH 010153Z 00000KT 10SM CLR 10/07 A300...   \n",
       "4      NaN                                                NaN   \n",
       "...    ...                                                ...   \n",
       "19235  NaN  MET080KIAH 312153Z 08010KT 10SM -RA OVC050 06/...   \n",
       "19236  NaN                                                NaN   \n",
       "19237  NaN  MET088KIAH 312253Z 07010KT 9SM -RA OVC046 04/0...   \n",
       "19238  NaN                                                NaN   \n",
       "19239  NaN  MET109KIAH 312353Z 07010G16KT 10SM OVC046 04/0...   \n",
       "\n",
       "                                                    EQD  \n",
       "0                      Q01  00002PRCP06N01 00000JPWTH 0  \n",
       "1                                      N01 00000JPWTH 0  \n",
       "2                                                   NaN  \n",
       "3                                      N01 00000JPWTH 0  \n",
       "4                                                   NaN  \n",
       "...                                                 ...  \n",
       "19235  Q01+000003PRSWM1Q02    003PRSWM1N01 00020JPWTH 0  \n",
       "19236                                               NaN  \n",
       "19237  Q01+000003PRSWM1Q02    003PRSWM1N01 00020JPWTH 0  \n",
       "19238                                               NaN  \n",
       "19239                                  Q01+000000PRSWM2  \n",
       "\n",
       "[19240 rows x 79 columns]"
      ]
     },
     "execution_count": 133,
     "metadata": {},
     "output_type": "execute_result"
    }
   ],
   "source": [
    "df"
   ]
  },
  {
   "cell_type": "code",
   "execution_count": 138,
   "metadata": {},
   "outputs": [
    {
     "data": {
      "text/plain": [
       "71       MW,01,FG  ,5\n",
       "177      MW,16,RA  ,1\n",
       "322      MW,16,RA  ,5\n",
       "373      MW,16,RA  ,5\n",
       "435      MW,16,RA  ,1\n",
       "             ...     \n",
       "18894    MW,16,RA  ,5\n",
       "18943    MW,16,RA  ,5\n",
       "18996    MW,16,RA  ,5\n",
       "19050    MW,16,RA  ,5\n",
       "19155    MW,01,FG  ,5\n",
       "Name: AT1, Length: 234, dtype: object"
      ]
     },
     "execution_count": 138,
     "metadata": {},
     "output_type": "execute_result"
    }
   ],
   "source": [
    "df[~df['AT1'].isnull()]['AT1']"
   ]
  },
  {
   "cell_type": "code",
   "execution_count": 122,
   "metadata": {},
   "outputs": [],
   "source": [
    "def ParseDF(df):\n",
    "    # Select columns we care\n",
    "    \n",
    "    # PARSE\n",
    "    # Split DATE\n",
    "    datetime = pd.to_datetime(df['DATE'])\n",
    "    df['DATE_year'] = datetime.dt.year\n",
    "    df['DATE_month'] = datetime.dt.month\n",
    "    df['DATE_day'] = datetime.dt.day\n",
    "    df['DATE_hour'] = datetime.dt.hour\n",
    "    df['DATE_year_month_day'] = df[['DATE_year', 'DATE_month', 'DATE_day']].apply(tuple, axis=1)\n",
    "    \n",
    "    columns_parse = ['WND','CIG','VIS','TMP','DEW']\n",
    "    # Split Wind WND data\n",
    "    df[['WND_angle','WND_angle_quality','WND_wind_observation','WND_speed','WND_speed_quality']] = df.WND.str.split(',', expand=True)\n",
    "    # Split CIG data\n",
    "    df[['CIG_ceiling_height', 'CIG_ceiling_quality','CIG_determ', 'CIG_CAVOK']] = df.CIG.str.split(',', expand=True)\n",
    "    # Split VIS data\n",
    "    df[['VIS_distance','VIS_distance_quality', 'VIS_observation','VIS_observation_quality']] = df.VIS.str.split(',', expand=True)\n",
    "    # Split TMP data\n",
    "    df[['TMP_temp_celsius','TMP_temp_quality']] = df.TMP.str.split(',', expand=True)\n",
    "    # SPlit DEW data\n",
    "    df[['DEW_temp_celsius','DEW_quality']] = df.DEW.str.split(',', expand=True)\n",
    "    # Split SLP data\n",
    "    df[['SLP_hectopascal','SLP_quality']] = df.SLP.str.split(',', expand=True)\n",
    "    \n",
    "    def getAT(input):\n",
    "        #print(type(input))\n",
    "        # individual data look like: \"AU,13,BR ,5\", or \"none\"\n",
    "        if type(input) == str:\n",
    "            try:\n",
    "                return int(input.split(',')[1])\n",
    "            except:\n",
    "                return 0\n",
    "        else:\n",
    "            return 0\n",
    "    \n",
    "    def thunder_check(array, check=3):\n",
    "        if check in array:\n",
    "            return 1\n",
    "        else:\n",
    "            return 0\n",
    "        \n",
    "    def tornado_check(array, check=10):\n",
    "        if check in array:\n",
    "            return 1\n",
    "        else:\n",
    "            return 0\n",
    "        \n",
    "    def rain_check(array, check=16):\n",
    "        if check in array:\n",
    "            return 1\n",
    "        else:\n",
    "            return 0\n",
    "        \n",
    "    def checkBadWeather(row):\n",
    "        return 1 if np.sum(row)>0 else 0\n",
    "    \n",
    "    # AT\n",
    "    df['AT1'] = df['AT1'].apply(getAT)\n",
    "    df['AT2'] = df['AT2'].apply(getAT)\n",
    "    df['AT3'] = df['AT3'].apply(getAT)\n",
    "    #df['AT4'] = df['AT4'].apply(getAT)\n",
    "    df['AT'] = list(df[['AT1','AT2','AT3']].to_numpy())\n",
    "    df['AT_binary'] = df['AT'].apply(checkBadWeather)\n",
    "    df['AT_thunder'] = df['AT'].copy()\n",
    "    df['AT_thunder'] = df['AT_thunder'].apply(thunder_check)\n",
    "    df['AT_tornado'] = df['AT'].copy()\n",
    "    df['AT_tornado'] = df['AT_tornado'].apply(tornado_check)\n",
    "    df['AT_rain'] = df['AT'].copy()\n",
    "    df['AT_rain'] = df['AT_rain'].apply(rain_check)\n",
    "\n",
    "    # Drop parsed raw data\n",
    "    df.drop(columns_parse, axis=1, inplace=True)\n",
    "    return df\n",
    "\n",
    "def KeepRelevant(df):\n",
    "    columns = ['STATION', 'DATE','DATE_year','DATE_month','DATE_day','DATE_hour','DATE_year_month_day', 'LATITUDE',\n",
    "               'LONGITUDE', 'ELEVATION', 'WND_angle', 'WND_speed', 'CIG_ceiling_height', 'VIS_distance',\n",
    "               'TMP_temp_celsius', 'DEW_temp_celsius','SLP_hectopascal','AT','AT_rain','AT_thunder','AT_tornado','AT_binary']\n",
    "    df = df[columns]\n",
    "    return df\n",
    "\n",
    "def ReplaceMissingNumericWithNeighbor(df, column, to_replace=[999,9999,99999,999999], value=np.nan, rescale=1):\n",
    "    '''Replace Missing values with NaN, Fill with method='ffill'''\n",
    "    df[column] = df[column].astype(int)\n",
    "    df[column].replace(to_replace=to_replace, value=np.nan, inplace=True)\n",
    "    # Fill NaN\n",
    "    df[column] = df[column].fillna(method='ffill')\n",
    "    df[column] = df[column].fillna(method='bfill')\n",
    "    \n",
    "    if rescale != 1:\n",
    "        df[column] = df[column]/rescale\n",
    "        \n",
    "    return df\n",
    "\n",
    "# FIll thunder for all day\n",
    "def Fill_thunder_day(df):    \n",
    "    month_day_s = list(df[df['AT_thunder']==1]['DATE_year_month_day'])\n",
    "    df.loc[df['DATE_year_month_day'].isin(month_day_s), 'AT_thunder']=1\n",
    "    return df\n",
    "\n",
    "def Fill_rain_day(df):    \n",
    "    month_day_s = list(df[df['AT_rain']==1]['DATE_year_month_day'])\n",
    "    df.loc[df['DATE_year_month_day'].isin(month_day_s), 'AT_rain']=1\n",
    "    return df\n",
    "\n",
    "# FIll thunder for all day\n",
    "def Fill_tornado_day(df):    \n",
    "    month_day_s = list(df[df['AT_tornado']==1]['DATE_year_month_day'])\n",
    "    df.loc[df['DATE_year_month_day'].isin(month_day_s), 'AT_tornado']=1\n",
    "    return df\n",
    "\n",
    "def Fill_AT_binary_day(df):\n",
    "    month_day_s = list(df[df['AT_binary']==1]['DATE_year_month_day'])\n",
    "    df.loc[df['DATE_year_month_day'].isin(month_day_s), 'AT_binary']=1\n",
    "    return df\n",
    "\n",
    "\n",
    "def DataframePreprocessingPipeline(df):\n",
    "    # Parse\n",
    "    df = ParseDF(df)\n",
    "    df = KeepRelevant(df)\n",
    "    \n",
    "    # Replace & Rescale\n",
    "    df = ReplaceMissingNumericWithNeighbor(df, 'WND_angle')\n",
    "    df = ReplaceMissingNumericWithNeighbor(df, 'WND_speed', rescale=10)\n",
    "    df = ReplaceMissingNumericWithNeighbor(df, 'CIG_ceiling_height')\n",
    "    df = ReplaceMissingNumericWithNeighbor(df, 'VIS_distance')\n",
    "    df = ReplaceMissingNumericWithNeighbor(df, 'TMP_temp_celsius',rescale=10)\n",
    "    df = ReplaceMissingNumericWithNeighbor(df, 'DEW_temp_celsius', rescale=10)\n",
    "    df = ReplaceMissingNumericWithNeighbor(df, 'SLP_hectopascal', rescale=10)\n",
    "    \n",
    "    df = Fill_thunder_day(df)\n",
    "    df = Fill_tornado_day(df)\n",
    "    df = Fill_AT_binary_day(df)\n",
    "    df =  Fill_rain_day(df)\n",
    "    \n",
    "    return df"
   ]
  },
  {
   "cell_type": "code",
   "execution_count": 113,
   "metadata": {},
   "outputs": [],
   "source": [
    "# # Read StationReference.csv\n",
    "# StationReference = pd.read_csv('../Data/StationReference.csv')\n",
    "# print(StationReference.shape)"
   ]
  },
  {
   "cell_type": "code",
   "execution_count": 114,
   "metadata": {},
   "outputs": [],
   "source": [
    "# # US\n",
    "# #query = StationReference[StationReference['cc'] == 'US']\n",
    "# # California\n",
    "# # query = StationReference[StationReference['admin1'] == 'California']\n",
    "# # San Fran\n",
    "# query = StationReference[StationReference['name'] == 'San Francisco']\n",
    "\n",
    "\n",
    "# StationReference_toget = list(query['filename'])\n",
    "# Station_sf_filenames = [s + '.csv' for s in StationReference_toget]\n",
    "# Station_sf_filenames"
   ]
  },
  {
   "cell_type": "markdown",
   "metadata": {},
   "source": [
    "# Go through files in data folder"
   ]
  },
  {
   "cell_type": "code",
   "execution_count": 115,
   "metadata": {},
   "outputs": [],
   "source": [
    "# year = str(2020)\n",
    "\n",
    "# inputpathcollection = '../Data/'+year+'/*.csv'\n",
    "# inputpath = '../Data/'+year+'/'\n",
    "# outputpath = '../DataProcessed/'+year+'/'\n",
    "# for file in glob.glob(inputpathcollection):\n",
    "#     fname = file[13:]\n",
    "#     #print(fname_nopath)\n",
    "#     #print(fname)\n",
    "#     if str(fname) in Station_sf_filenames:\n",
    "#         df_raw = pd.read_csv(inputpath+fname)\n",
    "#         #print('get sf')\n",
    "#         # Preprocess pipeline\n",
    "#         try:\n",
    "#             df = DataframePreprocessingPipeline(df_raw)\n",
    "#             outputpath_full = outputpath + fname\n",
    "#             df.to_csv(outputpath_full, index=False)\n",
    "#         except:\n",
    "#             continue"
   ]
  },
  {
   "cell_type": "code",
   "execution_count": 126,
   "metadata": {},
   "outputs": [
    {
     "name": "stdout",
     "output_type": "stream",
     "text": [
      "012960/2011_72243012960.csv\n",
      "012960/2008_72243012960.csv\n"
     ]
    },
    {
     "name": "stderr",
     "output_type": "stream",
     "text": [
      "/opt/anaconda3/envs/aviation/lib/python3.7/site-packages/IPython/core/interactiveshell.py:3524: DtypeWarning: Columns (42,43,47,51) have mixed types.Specify dtype option on import or set low_memory=False.\n",
      "  exec(code_obj, self.user_global_ns, self.user_ns)\n"
     ]
    },
    {
     "name": "stdout",
     "output_type": "stream",
     "text": [
      "012960/2007_72243012960.csv\n"
     ]
    },
    {
     "name": "stderr",
     "output_type": "stream",
     "text": [
      "/opt/anaconda3/envs/aviation/lib/python3.7/site-packages/IPython/core/interactiveshell.py:3524: DtypeWarning: Columns (43,47,51,55) have mixed types.Specify dtype option on import or set low_memory=False.\n",
      "  exec(code_obj, self.user_global_ns, self.user_ns)\n"
     ]
    },
    {
     "name": "stdout",
     "output_type": "stream",
     "text": [
      "012960/2019_72243012960.csv\n"
     ]
    },
    {
     "name": "stderr",
     "output_type": "stream",
     "text": [
      "/opt/anaconda3/envs/aviation/lib/python3.7/site-packages/IPython/core/interactiveshell.py:3524: DtypeWarning: Columns (43,54,58,86) have mixed types.Specify dtype option on import or set low_memory=False.\n",
      "  exec(code_obj, self.user_global_ns, self.user_ns)\n"
     ]
    },
    {
     "name": "stdout",
     "output_type": "stream",
     "text": [
      "012960/2000_72243012960.csv\n"
     ]
    },
    {
     "name": "stderr",
     "output_type": "stream",
     "text": [
      "/opt/anaconda3/envs/aviation/lib/python3.7/site-packages/IPython/core/interactiveshell.py:3524: DtypeWarning: Columns (19,20,21,22,23,24,25,26,27,28,29,30,31,32,33,34,35,36,42,49,50,56,57,58,59,60,61,64,65,66,67,72,74,75,76) have mixed types.Specify dtype option on import or set low_memory=False.\n",
      "  exec(code_obj, self.user_global_ns, self.user_ns)\n"
     ]
    },
    {
     "name": "stdout",
     "output_type": "stream",
     "text": [
      "012960/2016_72243012960.csv\n"
     ]
    },
    {
     "name": "stderr",
     "output_type": "stream",
     "text": [
      "/opt/anaconda3/envs/aviation/lib/python3.7/site-packages/IPython/core/interactiveshell.py:3524: DtypeWarning: Columns (46,51,87) have mixed types.Specify dtype option on import or set low_memory=False.\n",
      "  exec(code_obj, self.user_global_ns, self.user_ns)\n"
     ]
    },
    {
     "name": "stdout",
     "output_type": "stream",
     "text": [
      "012960/2018_72243012960.csv\n"
     ]
    },
    {
     "name": "stderr",
     "output_type": "stream",
     "text": [
      "/opt/anaconda3/envs/aviation/lib/python3.7/site-packages/IPython/core/interactiveshell.py:3524: DtypeWarning: Columns (43,44,45,49,54,58,88,90,99) have mixed types.Specify dtype option on import or set low_memory=False.\n",
      "  exec(code_obj, self.user_global_ns, self.user_ns)\n"
     ]
    },
    {
     "name": "stdout",
     "output_type": "stream",
     "text": [
      "012960/2001_72243012960.csv\n"
     ]
    },
    {
     "name": "stderr",
     "output_type": "stream",
     "text": [
      "/opt/anaconda3/envs/aviation/lib/python3.7/site-packages/IPython/core/interactiveshell.py:3524: DtypeWarning: Columns (43,71) have mixed types.Specify dtype option on import or set low_memory=False.\n",
      "  exec(code_obj, self.user_global_ns, self.user_ns)\n"
     ]
    },
    {
     "name": "stdout",
     "output_type": "stream",
     "text": [
      "012960/2017_72243012960.csv\n"
     ]
    },
    {
     "name": "stderr",
     "output_type": "stream",
     "text": [
      "/opt/anaconda3/envs/aviation/lib/python3.7/site-packages/IPython/core/interactiveshell.py:3524: DtypeWarning: Columns (46,51,52,56,57,88,97) have mixed types.Specify dtype option on import or set low_memory=False.\n",
      "  exec(code_obj, self.user_global_ns, self.user_ns)\n"
     ]
    },
    {
     "name": "stdout",
     "output_type": "stream",
     "text": [
      "012960/2010_72243012960.csv\n"
     ]
    },
    {
     "name": "stderr",
     "output_type": "stream",
     "text": [
      "/opt/anaconda3/envs/aviation/lib/python3.7/site-packages/IPython/core/interactiveshell.py:3524: DtypeWarning: Columns (42) have mixed types.Specify dtype option on import or set low_memory=False.\n",
      "  exec(code_obj, self.user_global_ns, self.user_ns)\n"
     ]
    },
    {
     "name": "stdout",
     "output_type": "stream",
     "text": [
      "012960/2009_72243012960.csv\n"
     ]
    },
    {
     "name": "stderr",
     "output_type": "stream",
     "text": [
      "/opt/anaconda3/envs/aviation/lib/python3.7/site-packages/IPython/core/interactiveshell.py:3524: DtypeWarning: Columns (42,43,47,51,55,56) have mixed types.Specify dtype option on import or set low_memory=False.\n",
      "  exec(code_obj, self.user_global_ns, self.user_ns)\n"
     ]
    },
    {
     "name": "stdout",
     "output_type": "stream",
     "text": [
      "012960/2006_72243012960.csv\n"
     ]
    },
    {
     "name": "stderr",
     "output_type": "stream",
     "text": [
      "/opt/anaconda3/envs/aviation/lib/python3.7/site-packages/IPython/core/interactiveshell.py:3524: DtypeWarning: Columns (46,50,54,86) have mixed types.Specify dtype option on import or set low_memory=False.\n",
      "  exec(code_obj, self.user_global_ns, self.user_ns)\n"
     ]
    },
    {
     "name": "stdout",
     "output_type": "stream",
     "text": [
      "012960/2022_72243012960.csv\n",
      "012960/2003_72243012960.csv\n"
     ]
    },
    {
     "name": "stderr",
     "output_type": "stream",
     "text": [
      "/opt/anaconda3/envs/aviation/lib/python3.7/site-packages/IPython/core/interactiveshell.py:3524: DtypeWarning: Columns (33,34,35,36,41,43,67,72) have mixed types.Specify dtype option on import or set low_memory=False.\n",
      "  exec(code_obj, self.user_global_ns, self.user_ns)\n"
     ]
    },
    {
     "name": "stdout",
     "output_type": "stream",
     "text": [
      "012960/2015_72243012960.csv\n"
     ]
    },
    {
     "name": "stderr",
     "output_type": "stream",
     "text": [
      "/opt/anaconda3/envs/aviation/lib/python3.7/site-packages/IPython/core/interactiveshell.py:3524: DtypeWarning: Columns (53,54,85) have mixed types.Specify dtype option on import or set low_memory=False.\n",
      "  exec(code_obj, self.user_global_ns, self.user_ns)\n"
     ]
    },
    {
     "name": "stdout",
     "output_type": "stream",
     "text": [
      "012960/2012_72243012960.csv\n"
     ]
    },
    {
     "name": "stderr",
     "output_type": "stream",
     "text": [
      "/opt/anaconda3/envs/aviation/lib/python3.7/site-packages/IPython/core/interactiveshell.py:3524: DtypeWarning: Columns (42,46) have mixed types.Specify dtype option on import or set low_memory=False.\n",
      "  exec(code_obj, self.user_global_ns, self.user_ns)\n"
     ]
    },
    {
     "name": "stdout",
     "output_type": "stream",
     "text": [
      "012960/2020_72243012960.csv\n"
     ]
    },
    {
     "name": "stderr",
     "output_type": "stream",
     "text": [
      "/opt/anaconda3/envs/aviation/lib/python3.7/site-packages/IPython/core/interactiveshell.py:3524: DtypeWarning: Columns (43,54,58,86,95) have mixed types.Specify dtype option on import or set low_memory=False.\n",
      "  exec(code_obj, self.user_global_ns, self.user_ns)\n"
     ]
    },
    {
     "name": "stdout",
     "output_type": "stream",
     "text": [
      "012960/2004_72243012960.csv\n"
     ]
    },
    {
     "name": "stderr",
     "output_type": "stream",
     "text": [
      "/opt/anaconda3/envs/aviation/lib/python3.7/site-packages/IPython/core/interactiveshell.py:3524: DtypeWarning: Columns (38,63,68) have mixed types.Specify dtype option on import or set low_memory=False.\n",
      "  exec(code_obj, self.user_global_ns, self.user_ns)\n"
     ]
    },
    {
     "name": "stdout",
     "output_type": "stream",
     "text": [
      "012960/2013_72243012960.csv\n"
     ]
    },
    {
     "name": "stderr",
     "output_type": "stream",
     "text": [
      "/opt/anaconda3/envs/aviation/lib/python3.7/site-packages/IPython/core/interactiveshell.py:3524: DtypeWarning: Columns (54,81,82) have mixed types.Specify dtype option on import or set low_memory=False.\n",
      "  exec(code_obj, self.user_global_ns, self.user_ns)\n"
     ]
    },
    {
     "name": "stdout",
     "output_type": "stream",
     "text": [
      "012960/2021_72243012960.csv\n"
     ]
    },
    {
     "name": "stderr",
     "output_type": "stream",
     "text": [
      "/opt/anaconda3/envs/aviation/lib/python3.7/site-packages/IPython/core/interactiveshell.py:3524: DtypeWarning: Columns (43,54,58,95) have mixed types.Specify dtype option on import or set low_memory=False.\n",
      "  exec(code_obj, self.user_global_ns, self.user_ns)\n"
     ]
    },
    {
     "name": "stdout",
     "output_type": "stream",
     "text": [
      "012960/2005_72243012960.csv\n"
     ]
    },
    {
     "name": "stderr",
     "output_type": "stream",
     "text": [
      "/opt/anaconda3/envs/aviation/lib/python3.7/site-packages/IPython/core/interactiveshell.py:3524: DtypeWarning: Columns (41,45,74) have mixed types.Specify dtype option on import or set low_memory=False.\n",
      "  exec(code_obj, self.user_global_ns, self.user_ns)\n"
     ]
    },
    {
     "name": "stdout",
     "output_type": "stream",
     "text": [
      "012960/2002_72243012960.csv\n"
     ]
    },
    {
     "name": "stderr",
     "output_type": "stream",
     "text": [
      "/opt/anaconda3/envs/aviation/lib/python3.7/site-packages/IPython/core/interactiveshell.py:3524: DtypeWarning: Columns (41,53,71,76,77,78) have mixed types.Specify dtype option on import or set low_memory=False.\n",
      "  exec(code_obj, self.user_global_ns, self.user_ns)\n"
     ]
    },
    {
     "name": "stdout",
     "output_type": "stream",
     "text": [
      "012960/2014_72243012960.csv\n"
     ]
    },
    {
     "name": "stderr",
     "output_type": "stream",
     "text": [
      "/opt/anaconda3/envs/aviation/lib/python3.7/site-packages/IPython/core/interactiveshell.py:3524: DtypeWarning: Columns (43,52,53,58,85,87) have mixed types.Specify dtype option on import or set low_memory=False.\n",
      "  exec(code_obj, self.user_global_ns, self.user_ns)\n"
     ]
    }
   ],
   "source": [
    "year = str(72243012960)#Houston\n",
    "#year = str(72494023234)#SFO\n",
    "\n",
    "inputpathcollection = '../Data/'+year+'/*.csv'\n",
    "inputpath = '../Data/'+year+'/'\n",
    "outputpath = '../DataProcessed/'+year+'/'\n",
    "\n",
    "df_all = pd.DataFrame()\n",
    "\n",
    "for file in glob.glob(inputpathcollection):\n",
    "    #print(file)\n",
    "    fname = file[13:]\n",
    "    #print(fname_nopath)\n",
    "    print(fname)\n",
    "    df_raw = pd.read_csv(file)\n",
    "    df = DataframePreprocessingPipeline(df_raw)\n",
    "    df_all = pd.concat([df_all,df])"
   ]
  },
  {
   "cell_type": "code",
   "execution_count": 129,
   "metadata": {},
   "outputs": [],
   "source": [
    "df_all = df_all.sort_values('DATE')"
   ]
  },
  {
   "cell_type": "code",
   "execution_count": 130,
   "metadata": {},
   "outputs": [
    {
     "data": {
      "text/html": [
       "<div>\n",
       "<style scoped>\n",
       "    .dataframe tbody tr th:only-of-type {\n",
       "        vertical-align: middle;\n",
       "    }\n",
       "\n",
       "    .dataframe tbody tr th {\n",
       "        vertical-align: top;\n",
       "    }\n",
       "\n",
       "    .dataframe thead th {\n",
       "        text-align: right;\n",
       "    }\n",
       "</style>\n",
       "<table border=\"1\" class=\"dataframe\">\n",
       "  <thead>\n",
       "    <tr style=\"text-align: right;\">\n",
       "      <th></th>\n",
       "      <th>STATION</th>\n",
       "      <th>DATE</th>\n",
       "      <th>DATE_year</th>\n",
       "      <th>DATE_month</th>\n",
       "      <th>DATE_day</th>\n",
       "      <th>DATE_hour</th>\n",
       "      <th>DATE_year_month_day</th>\n",
       "      <th>LATITUDE</th>\n",
       "      <th>LONGITUDE</th>\n",
       "      <th>ELEVATION</th>\n",
       "      <th>...</th>\n",
       "      <th>CIG_ceiling_height</th>\n",
       "      <th>VIS_distance</th>\n",
       "      <th>TMP_temp_celsius</th>\n",
       "      <th>DEW_temp_celsius</th>\n",
       "      <th>SLP_hectopascal</th>\n",
       "      <th>AT</th>\n",
       "      <th>AT_rain</th>\n",
       "      <th>AT_thunder</th>\n",
       "      <th>AT_tornado</th>\n",
       "      <th>AT_binary</th>\n",
       "    </tr>\n",
       "  </thead>\n",
       "  <tbody>\n",
       "    <tr>\n",
       "      <th>0</th>\n",
       "      <td>72243012960</td>\n",
       "      <td>2000-01-01T00:00:00</td>\n",
       "      <td>2000</td>\n",
       "      <td>1</td>\n",
       "      <td>1</td>\n",
       "      <td>0</td>\n",
       "      <td>(2000, 1, 1)</td>\n",
       "      <td>29.98000</td>\n",
       "      <td>-95.36000</td>\n",
       "      <td>29.0</td>\n",
       "      <td>...</td>\n",
       "      <td>22000.0</td>\n",
       "      <td>16000.0</td>\n",
       "      <td>14.4</td>\n",
       "      <td>7.2</td>\n",
       "      <td>1016.4</td>\n",
       "      <td>[0, 0, 0]</td>\n",
       "      <td>0</td>\n",
       "      <td>0</td>\n",
       "      <td>0</td>\n",
       "      <td>0</td>\n",
       "    </tr>\n",
       "    <tr>\n",
       "      <th>1</th>\n",
       "      <td>72243012960</td>\n",
       "      <td>2000-01-01T00:53:00</td>\n",
       "      <td>2000</td>\n",
       "      <td>1</td>\n",
       "      <td>1</td>\n",
       "      <td>0</td>\n",
       "      <td>(2000, 1, 1)</td>\n",
       "      <td>29.98000</td>\n",
       "      <td>-95.36000</td>\n",
       "      <td>29.0</td>\n",
       "      <td>...</td>\n",
       "      <td>22000.0</td>\n",
       "      <td>16000.0</td>\n",
       "      <td>12.2</td>\n",
       "      <td>7.2</td>\n",
       "      <td>1017.0</td>\n",
       "      <td>[0, 0, 0]</td>\n",
       "      <td>0</td>\n",
       "      <td>0</td>\n",
       "      <td>0</td>\n",
       "      <td>0</td>\n",
       "    </tr>\n",
       "    <tr>\n",
       "      <th>2</th>\n",
       "      <td>72243012960</td>\n",
       "      <td>2000-01-01T01:00:00</td>\n",
       "      <td>2000</td>\n",
       "      <td>1</td>\n",
       "      <td>1</td>\n",
       "      <td>1</td>\n",
       "      <td>(2000, 1, 1)</td>\n",
       "      <td>29.98000</td>\n",
       "      <td>-95.36000</td>\n",
       "      <td>29.0</td>\n",
       "      <td>...</td>\n",
       "      <td>22000.0</td>\n",
       "      <td>16000.0</td>\n",
       "      <td>12.2</td>\n",
       "      <td>7.2</td>\n",
       "      <td>1017.0</td>\n",
       "      <td>[0, 0, 0]</td>\n",
       "      <td>0</td>\n",
       "      <td>0</td>\n",
       "      <td>0</td>\n",
       "      <td>0</td>\n",
       "    </tr>\n",
       "    <tr>\n",
       "      <th>3</th>\n",
       "      <td>72243012960</td>\n",
       "      <td>2000-01-01T01:53:00</td>\n",
       "      <td>2000</td>\n",
       "      <td>1</td>\n",
       "      <td>1</td>\n",
       "      <td>1</td>\n",
       "      <td>(2000, 1, 1)</td>\n",
       "      <td>29.98000</td>\n",
       "      <td>-95.36000</td>\n",
       "      <td>29.0</td>\n",
       "      <td>...</td>\n",
       "      <td>22000.0</td>\n",
       "      <td>16000.0</td>\n",
       "      <td>10.0</td>\n",
       "      <td>6.7</td>\n",
       "      <td>1017.4</td>\n",
       "      <td>[0, 0, 0]</td>\n",
       "      <td>0</td>\n",
       "      <td>0</td>\n",
       "      <td>0</td>\n",
       "      <td>0</td>\n",
       "    </tr>\n",
       "    <tr>\n",
       "      <th>4</th>\n",
       "      <td>72243012960</td>\n",
       "      <td>2000-01-01T02:00:00</td>\n",
       "      <td>2000</td>\n",
       "      <td>1</td>\n",
       "      <td>1</td>\n",
       "      <td>2</td>\n",
       "      <td>(2000, 1, 1)</td>\n",
       "      <td>29.98000</td>\n",
       "      <td>-95.36000</td>\n",
       "      <td>29.0</td>\n",
       "      <td>...</td>\n",
       "      <td>22000.0</td>\n",
       "      <td>16000.0</td>\n",
       "      <td>10.0</td>\n",
       "      <td>6.7</td>\n",
       "      <td>1017.4</td>\n",
       "      <td>[0, 0, 0]</td>\n",
       "      <td>0</td>\n",
       "      <td>0</td>\n",
       "      <td>0</td>\n",
       "      <td>0</td>\n",
       "    </tr>\n",
       "    <tr>\n",
       "      <th>...</th>\n",
       "      <td>...</td>\n",
       "      <td>...</td>\n",
       "      <td>...</td>\n",
       "      <td>...</td>\n",
       "      <td>...</td>\n",
       "      <td>...</td>\n",
       "      <td>...</td>\n",
       "      <td>...</td>\n",
       "      <td>...</td>\n",
       "      <td>...</td>\n",
       "      <td>...</td>\n",
       "      <td>...</td>\n",
       "      <td>...</td>\n",
       "      <td>...</td>\n",
       "      <td>...</td>\n",
       "      <td>...</td>\n",
       "      <td>...</td>\n",
       "      <td>...</td>\n",
       "      <td>...</td>\n",
       "      <td>...</td>\n",
       "      <td>...</td>\n",
       "    </tr>\n",
       "    <tr>\n",
       "      <th>3877</th>\n",
       "      <td>72243012960</td>\n",
       "      <td>2022-04-30T05:53:00</td>\n",
       "      <td>2022</td>\n",
       "      <td>4</td>\n",
       "      <td>30</td>\n",
       "      <td>5</td>\n",
       "      <td>(2022, 4, 30)</td>\n",
       "      <td>29.98438</td>\n",
       "      <td>-95.36072</td>\n",
       "      <td>27.5</td>\n",
       "      <td>...</td>\n",
       "      <td>518.0</td>\n",
       "      <td>16093.0</td>\n",
       "      <td>23.3</td>\n",
       "      <td>20.0</td>\n",
       "      <td>1010.2</td>\n",
       "      <td>[0, 0, 0]</td>\n",
       "      <td>0</td>\n",
       "      <td>0</td>\n",
       "      <td>0</td>\n",
       "      <td>0</td>\n",
       "    </tr>\n",
       "    <tr>\n",
       "      <th>3878</th>\n",
       "      <td>72243012960</td>\n",
       "      <td>2022-04-30T05:59:00</td>\n",
       "      <td>2022</td>\n",
       "      <td>4</td>\n",
       "      <td>30</td>\n",
       "      <td>5</td>\n",
       "      <td>(2022, 4, 30)</td>\n",
       "      <td>29.98438</td>\n",
       "      <td>-95.36072</td>\n",
       "      <td>27.5</td>\n",
       "      <td>...</td>\n",
       "      <td>518.0</td>\n",
       "      <td>16093.0</td>\n",
       "      <td>23.3</td>\n",
       "      <td>20.0</td>\n",
       "      <td>1010.2</td>\n",
       "      <td>[0, 0, 0]</td>\n",
       "      <td>0</td>\n",
       "      <td>0</td>\n",
       "      <td>0</td>\n",
       "      <td>0</td>\n",
       "    </tr>\n",
       "    <tr>\n",
       "      <th>3879</th>\n",
       "      <td>72243012960</td>\n",
       "      <td>2022-04-30T06:53:00</td>\n",
       "      <td>2022</td>\n",
       "      <td>4</td>\n",
       "      <td>30</td>\n",
       "      <td>6</td>\n",
       "      <td>(2022, 4, 30)</td>\n",
       "      <td>29.98438</td>\n",
       "      <td>-95.36072</td>\n",
       "      <td>27.5</td>\n",
       "      <td>...</td>\n",
       "      <td>488.0</td>\n",
       "      <td>16093.0</td>\n",
       "      <td>23.3</td>\n",
       "      <td>20.0</td>\n",
       "      <td>1009.6</td>\n",
       "      <td>[0, 0, 0]</td>\n",
       "      <td>0</td>\n",
       "      <td>0</td>\n",
       "      <td>0</td>\n",
       "      <td>0</td>\n",
       "    </tr>\n",
       "    <tr>\n",
       "      <th>3880</th>\n",
       "      <td>72243012960</td>\n",
       "      <td>2022-04-30T07:32:00</td>\n",
       "      <td>2022</td>\n",
       "      <td>4</td>\n",
       "      <td>30</td>\n",
       "      <td>7</td>\n",
       "      <td>(2022, 4, 30)</td>\n",
       "      <td>29.98438</td>\n",
       "      <td>-95.36072</td>\n",
       "      <td>27.5</td>\n",
       "      <td>...</td>\n",
       "      <td>22000.0</td>\n",
       "      <td>16093.0</td>\n",
       "      <td>23.3</td>\n",
       "      <td>20.0</td>\n",
       "      <td>1009.6</td>\n",
       "      <td>[0, 0, 0]</td>\n",
       "      <td>0</td>\n",
       "      <td>0</td>\n",
       "      <td>0</td>\n",
       "      <td>0</td>\n",
       "    </tr>\n",
       "    <tr>\n",
       "      <th>3881</th>\n",
       "      <td>72243012960</td>\n",
       "      <td>2022-04-30T07:53:00</td>\n",
       "      <td>2022</td>\n",
       "      <td>4</td>\n",
       "      <td>30</td>\n",
       "      <td>7</td>\n",
       "      <td>(2022, 4, 30)</td>\n",
       "      <td>29.98438</td>\n",
       "      <td>-95.36072</td>\n",
       "      <td>27.5</td>\n",
       "      <td>...</td>\n",
       "      <td>1128.0</td>\n",
       "      <td>16093.0</td>\n",
       "      <td>22.8</td>\n",
       "      <td>20.0</td>\n",
       "      <td>1009.5</td>\n",
       "      <td>[0, 0, 0]</td>\n",
       "      <td>0</td>\n",
       "      <td>0</td>\n",
       "      <td>0</td>\n",
       "      <td>0</td>\n",
       "    </tr>\n",
       "  </tbody>\n",
       "</table>\n",
       "<p>309428 rows × 22 columns</p>\n",
       "</div>"
      ],
      "text/plain": [
       "          STATION                 DATE  DATE_year  DATE_month  DATE_day  \\\n",
       "0     72243012960  2000-01-01T00:00:00       2000           1         1   \n",
       "1     72243012960  2000-01-01T00:53:00       2000           1         1   \n",
       "2     72243012960  2000-01-01T01:00:00       2000           1         1   \n",
       "3     72243012960  2000-01-01T01:53:00       2000           1         1   \n",
       "4     72243012960  2000-01-01T02:00:00       2000           1         1   \n",
       "...           ...                  ...        ...         ...       ...   \n",
       "3877  72243012960  2022-04-30T05:53:00       2022           4        30   \n",
       "3878  72243012960  2022-04-30T05:59:00       2022           4        30   \n",
       "3879  72243012960  2022-04-30T06:53:00       2022           4        30   \n",
       "3880  72243012960  2022-04-30T07:32:00       2022           4        30   \n",
       "3881  72243012960  2022-04-30T07:53:00       2022           4        30   \n",
       "\n",
       "      DATE_hour DATE_year_month_day  LATITUDE  LONGITUDE  ELEVATION  ...  \\\n",
       "0             0        (2000, 1, 1)  29.98000  -95.36000       29.0  ...   \n",
       "1             0        (2000, 1, 1)  29.98000  -95.36000       29.0  ...   \n",
       "2             1        (2000, 1, 1)  29.98000  -95.36000       29.0  ...   \n",
       "3             1        (2000, 1, 1)  29.98000  -95.36000       29.0  ...   \n",
       "4             2        (2000, 1, 1)  29.98000  -95.36000       29.0  ...   \n",
       "...         ...                 ...       ...        ...        ...  ...   \n",
       "3877          5       (2022, 4, 30)  29.98438  -95.36072       27.5  ...   \n",
       "3878          5       (2022, 4, 30)  29.98438  -95.36072       27.5  ...   \n",
       "3879          6       (2022, 4, 30)  29.98438  -95.36072       27.5  ...   \n",
       "3880          7       (2022, 4, 30)  29.98438  -95.36072       27.5  ...   \n",
       "3881          7       (2022, 4, 30)  29.98438  -95.36072       27.5  ...   \n",
       "\n",
       "      CIG_ceiling_height  VIS_distance  TMP_temp_celsius  DEW_temp_celsius  \\\n",
       "0                22000.0       16000.0              14.4               7.2   \n",
       "1                22000.0       16000.0              12.2               7.2   \n",
       "2                22000.0       16000.0              12.2               7.2   \n",
       "3                22000.0       16000.0              10.0               6.7   \n",
       "4                22000.0       16000.0              10.0               6.7   \n",
       "...                  ...           ...               ...               ...   \n",
       "3877               518.0       16093.0              23.3              20.0   \n",
       "3878               518.0       16093.0              23.3              20.0   \n",
       "3879               488.0       16093.0              23.3              20.0   \n",
       "3880             22000.0       16093.0              23.3              20.0   \n",
       "3881              1128.0       16093.0              22.8              20.0   \n",
       "\n",
       "      SLP_hectopascal         AT  AT_rain AT_thunder  AT_tornado  AT_binary  \n",
       "0              1016.4  [0, 0, 0]        0          0           0          0  \n",
       "1              1017.0  [0, 0, 0]        0          0           0          0  \n",
       "2              1017.0  [0, 0, 0]        0          0           0          0  \n",
       "3              1017.4  [0, 0, 0]        0          0           0          0  \n",
       "4              1017.4  [0, 0, 0]        0          0           0          0  \n",
       "...               ...        ...      ...        ...         ...        ...  \n",
       "3877           1010.2  [0, 0, 0]        0          0           0          0  \n",
       "3878           1010.2  [0, 0, 0]        0          0           0          0  \n",
       "3879           1009.6  [0, 0, 0]        0          0           0          0  \n",
       "3880           1009.6  [0, 0, 0]        0          0           0          0  \n",
       "3881           1009.5  [0, 0, 0]        0          0           0          0  \n",
       "\n",
       "[309428 rows x 22 columns]"
      ]
     },
     "execution_count": 130,
     "metadata": {},
     "output_type": "execute_result"
    }
   ],
   "source": [
    "df_all"
   ]
  },
  {
   "cell_type": "code",
   "execution_count": 131,
   "metadata": {},
   "outputs": [],
   "source": [
    "df_all.to_csv('../DataProcessed/houston_airport_cleaned_generalized_2000-2022.csv',index=False)"
   ]
  },
  {
   "cell_type": "code",
   "execution_count": 21,
   "metadata": {},
   "outputs": [],
   "source": [
    "df_exp = df_all.copy()\n",
    "df_exp.drop(['STATION','DATE','AT','DATE_year','DATE_year_month_day','ELEVATION'], axis=1,inplace=True)\n",
    "y = df_exp['AT_binary']\n",
    "X = df_exp.drop('AT_binary',axis=1)"
   ]
  },
  {
   "cell_type": "code",
   "execution_count": null,
   "metadata": {},
   "outputs": [],
   "source": [
    "import sklearn"
   ]
  },
  {
   "cell_type": "code",
   "execution_count": null,
   "metadata": {},
   "outputs": [],
   "source": [
    "X.shape"
   ]
  },
  {
   "cell_type": "code",
   "execution_count": null,
   "metadata": {},
   "outputs": [],
   "source": [
    "from sklearn.model_selection import train_test_split\n",
    "X_train, X_test, y_train, y_test = train_test_split(X, y, test_size=0.2, shuffle=False)"
   ]
  },
  {
   "cell_type": "code",
   "execution_count": null,
   "metadata": {},
   "outputs": [],
   "source": [
    "X_train"
   ]
  },
  {
   "cell_type": "code",
   "execution_count": null,
   "metadata": {},
   "outputs": [],
   "source": []
  },
  {
   "cell_type": "code",
   "execution_count": null,
   "metadata": {},
   "outputs": [],
   "source": [
    "from sklearn.tree import DecisionTreeClassifier\n",
    "from sklearn.metrics import accuracy_score\n",
    "from sklearn.model_selection import cross_val_score\n",
    "\n",
    "# model = DecisionTreeClassifier(random_state=0).fit(X_train,y_train)\n",
    "# accuracy_score(y_test, model.predict(X_test))"
   ]
  },
  {
   "cell_type": "code",
   "execution_count": null,
   "metadata": {},
   "outputs": [],
   "source": [
    "param_max_depth = np.arange(2,5) #6\n",
    "param_min_samples_leaf = np.arange(1,2) #5\n",
    "\n",
    "# Initiate array\n",
    "Training_Scores = []\n",
    "Test_Scores = []\n",
    "best_model_score = {'train':0, 'test':0}\n",
    "best_param = {}\n",
    "\n",
    "for depth in param_max_depth:\n",
    "    train_array = []\n",
    "    test_array=[]\n",
    "    for leaf in param_min_samples_leaf:\n",
    "        # Fit this model\n",
    "        DTC = DecisionTreeClassifier(max_depth=depth, min_samples_leaf=leaf)\n",
    "        DTC.fit(X, y)\n",
    "        # Get this model scores\n",
    "        training_score = np.mean(cross_val_score(DTC, X,y, cv=5))\n",
    "        test_score = accuracy_score(DTC.predict(X_test), y_test)\n",
    "        train_array.append(training_score)\n",
    "        test_array.append(test_score)\n",
    "        \n",
    "        # Store best model\n",
    "        if training_score > best_model_score['train']:\n",
    "            best_model_score['train'] = training_score\n",
    "            best_model_score['test'] = test_score\n",
    "            best_param['min_samples_leaf'] = leaf\n",
    "            best_param['max_depth'] = depth\n",
    "    \n",
    "    Training_Scores.append(train_array)\n",
    "    Test_Scores.append(test_array)\n",
    "\n",
    "Training_Scores # ([1,2,3],[1,2,3],[1,2,3]). Row:depth, Col:leaf"
   ]
  },
  {
   "cell_type": "code",
   "execution_count": null,
   "metadata": {},
   "outputs": [],
   "source": [
    "DTC = DecisionTreeClassifier(max_depth=3, min_samples_leaf=1)\n",
    "DTC.fit(X_train, y_train)"
   ]
  },
  {
   "cell_type": "code",
   "execution_count": null,
   "metadata": {},
   "outputs": [],
   "source": [
    "print(\"Majority:\", sum(y_test)/len(y_test))"
   ]
  },
  {
   "cell_type": "code",
   "execution_count": null,
   "metadata": {},
   "outputs": [],
   "source": [
    "from sklearn.metrics import accuracy_score\n",
    "accuracy_score(DTC.predict(X_test), y_test)"
   ]
  },
  {
   "cell_type": "code",
   "execution_count": null,
   "metadata": {},
   "outputs": [],
   "source": [
    "df_all"
   ]
  },
  {
   "cell_type": "code",
   "execution_count": null,
   "metadata": {},
   "outputs": [],
   "source": [
    "1- sum(df_all['AT_binary']) / len(df_all)"
   ]
  },
  {
   "cell_type": "code",
   "execution_count": null,
   "metadata": {},
   "outputs": [],
   "source": [
    "df_raw"
   ]
  },
  {
   "cell_type": "code",
   "execution_count": null,
   "metadata": {},
   "outputs": [],
   "source": []
  }
 ],
 "metadata": {
  "interpreter": {
   "hash": "4e0c8f2b271d3a8b0e84dd61c62fcd10eafb990a20483b325791b9ddbd671683"
  },
  "kernelspec": {
   "display_name": "Python 3.7.12 ('aviation')",
   "language": "python",
   "name": "python3"
  },
  "language_info": {
   "codemirror_mode": {
    "name": "ipython",
    "version": 3
   },
   "file_extension": ".py",
   "mimetype": "text/x-python",
   "name": "python",
   "nbconvert_exporter": "python",
   "pygments_lexer": "ipython3",
   "version": "3.7.12"
  },
  "orig_nbformat": 4
 },
 "nbformat": 4,
 "nbformat_minor": 2
}
